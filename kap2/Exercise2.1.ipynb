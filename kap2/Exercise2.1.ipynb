{
 "cells": [
  {
   "cell_type": "markdown",
   "metadata": {},
   "source": [
    "## Övning 2.2"
   ]
  },
  {
   "cell_type": "markdown",
   "metadata": {},
   "source": [
    "Uppgiften lyder\n",
    "<img src=\"img/exe2.2.png\">"
   ]
  },
  {
   "cell_type": "markdown",
   "metadata": {},
   "source": [
    "Vi räknar först ut stickprovets medelvärde"
   ]
  },
  {
   "cell_type": "code",
   "execution_count": 1,
   "metadata": {
    "collapsed": false
   },
   "outputs": [
    {
     "name": "stdout",
     "output_type": "stream",
     "text": [
      "19.0142857143\n"
     ]
    }
   ],
   "source": [
    "data = [15.1,21.2,18.5,25.3,19.2,16.0,17.8]\n",
    "import numpy as np\n",
    "summa = np.sum(data)\n",
    "medel = summa/len(data)\n",
    "print medel"
   ]
  },
  {
   "cell_type": "markdown",
   "metadata": {},
   "source": [
    "Sedan räknar vi ut standardavvikelsen av stickprovet"
   ]
  },
  {
   "cell_type": "code",
   "execution_count": 9,
   "metadata": {
    "collapsed": false
   },
   "outputs": [
    {
     "name": "stdout",
     "output_type": "stream",
     "text": [
      "1.85123287576\n"
     ]
    }
   ],
   "source": [
    "residy = data - medel\n",
    "kvadrat_residy = residy*residy\n",
    "varians=np.sum(kvadrat_residy)/(len(residy)-1)\n",
    "standardavvikelse = np.sqrt(standardavvikelse)\n",
    "print standardavvikelse"
   ]
  },
  {
   "cell_type": "code",
   "execution_count": null,
   "metadata": {
    "collapsed": true
   },
   "outputs": [],
   "source": []
  }
 ],
 "metadata": {
  "kernelspec": {
   "display_name": "Python 2",
   "language": "python",
   "name": "python2"
  },
  "language_info": {
   "codemirror_mode": {
    "name": "ipython",
    "version": 2
   },
   "file_extension": ".py",
   "mimetype": "text/x-python",
   "name": "python",
   "nbconvert_exporter": "python",
   "pygments_lexer": "ipython2",
   "version": "2.7.13"
  }
 },
 "nbformat": 4,
 "nbformat_minor": 2
}
