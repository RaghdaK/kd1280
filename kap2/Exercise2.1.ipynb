{
 "cells": [
  {
   "cell_type": "markdown",
   "metadata": {
    "deletable": true,
    "editable": true
   },
   "source": [
    "## Övning 2.2"
   ]
  },
  {
   "cell_type": "markdown",
   "metadata": {
    "deletable": true,
    "editable": true
   },
   "source": [
    "Uppgiften lyder\n",
    "<img src=\"img/exe2.2.png\">"
   ]
  },
  {
   "cell_type": "markdown",
   "metadata": {
    "deletable": true,
    "editable": true
   },
   "source": [
    "Vi räknar först ut stickprovets medelvärde"
   ]
  },
  {
   "cell_type": "code",
   "execution_count": 19,
   "metadata": {
    "collapsed": false,
    "deletable": true,
    "editable": true
   },
   "outputs": [],
   "source": [
    "from math import *\n",
    "stickprov = [15.1,21.2,18.5,25.3,19.2,16.0,17.8]"
   ]
  },
  {
   "cell_type": "code",
   "execution_count": 20,
   "metadata": {
    "collapsed": false
   },
   "outputs": [
    {
     "name": "stdout",
     "output_type": "stream",
     "text": [
      "19.0142857143\n"
     ]
    }
   ],
   "source": [
    "summa = 0.0\n",
    "antal = 0\n",
    "for punkt in stickprov:\n",
    "    summa += punkt\n",
    "    antal += 1\n",
    "medel = summa/antal\n",
    "print medel"
   ]
  },
  {
   "cell_type": "markdown",
   "metadata": {
    "deletable": true,
    "editable": true
   },
   "source": [
    "Sedan räknar vi ut standardavvikelsen av stickprovet"
   ]
  },
  {
   "cell_type": "code",
   "execution_count": 21,
   "metadata": {
    "collapsed": false
   },
   "outputs": [
    {
     "name": "stdout",
     "output_type": "stream",
     "text": [
      "3.42706316031\n"
     ]
    }
   ],
   "source": [
    "kvadrat_summa = 0.0\n",
    "for punkt in stickprov:\n",
    "    kvadrat_summa += (punkt-medel)**2\n",
    "varians=kvadrat_summa/(antal-1)\n",
    "standardavvikelse = sqrt(varians)\n",
    "print standardavvikelse"
   ]
  },
  {
   "cell_type": "markdown",
   "metadata": {},
   "source": [
    "Vi tar sedan reda på $t^{0.975}_6$ och $t^{0.995}_6$ för att använda i 2-sidig konfidensintervalls bestämning för 95% och 99% intervall. Vi skulle även kunnat använda tabellen A.2 i Apendix A för att bestämma de här värdena."
   ]
  },
  {
   "cell_type": "code",
   "execution_count": 22,
   "metadata": {
    "collapsed": false,
    "deletable": true,
    "editable": true
   },
   "outputs": [
    {
     "name": "stdout",
     "output_type": "stream",
     "text": [
      "2.44691184879 3.70742802132\n"
     ]
    }
   ],
   "source": [
    "from scipy.stats import t\n",
    "t95 = t.ppf(0.975,antal-1)\n",
    "t99 = t.ppf(0.995,antal-1)\n",
    "print t95, t99"
   ]
  },
  {
   "cell_type": "code",
   "execution_count": 41,
   "metadata": {
    "collapsed": false
   },
   "outputs": [
    {
     "name": "stdout",
     "output_type": "stream",
     "text": [
      "95% konfidensintervall för morfinnivån är 15.844781 till 22.183791\n"
     ]
    }
   ],
   "source": [
    "upp = medel + standardavvikelse*t95/sqrt(antal)\n",
    "ner = medel - standardavvikelse*t95/sqrt(antal)\n",
    "print \"95%% konfidensintervall för morfinnivån är %f till %f\" % (ner,upp)"
   ]
  },
  {
   "cell_type": "code",
   "execution_count": 42,
   "metadata": {
    "collapsed": false,
    "deletable": true,
    "editable": true
   },
   "outputs": [
    {
     "name": "stdout",
     "output_type": "stream",
     "text": [
      "99% konfidensintervall för morfinnivån är 14.212024 till 23.816547\n"
     ]
    }
   ],
   "source": [
    "upp = medel + standardavvikelse*t99/sqrt(antal)\n",
    "ner = medel - standardavvikelse*t99/sqrt(antal)\n",
    "print \"99%% konfidensintervall för morfinnivån är %f till %f\" % (ner,upp)"
   ]
  },
  {
   "cell_type": "markdown",
   "metadata": {},
   "source": [
    "Nu när vi har svartet, kan vi äve se att det finns alternativa sätt att räkna ut medelvärde och standard avvikelse, tex"
   ]
  },
  {
   "cell_type": "code",
   "execution_count": 43,
   "metadata": {
    "collapsed": false
   },
   "outputs": [
    {
     "name": "stdout",
     "output_type": "stream",
     "text": [
      "19.0142857143\n",
      "3.42706316031\n"
     ]
    }
   ],
   "source": [
    "import numpy as np\n",
    "summa = np.sum(stickprov)\n",
    "medel = summa/len(stickprov)\n",
    "print medel\n",
    "residy = stickprov - medel\n",
    "kvadrat_residy = residy*residy\n",
    "varians=np.sum(kvadrat_residy)/(len(residy)-1)\n",
    "standardavvikelse = np.sqrt(varians)\n",
    "print standardavvikelse"
   ]
  },
  {
   "cell_type": "markdown",
   "metadata": {
    "collapsed": false,
    "deletable": true,
    "editable": true
   },
   "source": [
    "Vidare skulle vi kan vi om bara:"
   ]
  },
  {
   "cell_type": "code",
   "execution_count": 46,
   "metadata": {
    "collapsed": false
   },
   "outputs": [
    {
     "name": "stdout",
     "output_type": "stream",
     "text": [
      "(15.844780924302782, 22.183790504268643)\n",
      "(14.212024088919481, 23.816547339651944)\n"
     ]
    }
   ],
   "source": [
    "medel = np.mean(stickprov)\n",
    "standardavvikelse = np.std(stickprov,ddof=1)\n",
    "print t.interval(0.95,antal-1,loc=medel,scale=standardavvikelse/sqrt(antal))\n",
    "print t.interval(0.99,antal-1,loc=medel,scale=standardavvikelse/sqrt(antal))"
   ]
  },
  {
   "cell_type": "markdown",
   "metadata": {},
   "source": [
    "Dokumentation av scipys t-funktion läses [här](https://docs.scipy.org/doc/scipy/reference/generated/scipy.stats.t.html)"
   ]
  },
  {
   "cell_type": "code",
   "execution_count": null,
   "metadata": {
    "collapsed": true
   },
   "outputs": [],
   "source": []
  }
 ],
 "metadata": {
  "kernelspec": {
   "display_name": "Python 2",
   "language": "python",
   "name": "python2"
  },
  "language_info": {
   "codemirror_mode": {
    "name": "ipython",
    "version": 2
   },
   "file_extension": ".py",
   "mimetype": "text/x-python",
   "name": "python",
   "nbconvert_exporter": "python",
   "pygments_lexer": "ipython2",
   "version": "2.7.13"
  }
 },
 "nbformat": 4,
 "nbformat_minor": 2
}
