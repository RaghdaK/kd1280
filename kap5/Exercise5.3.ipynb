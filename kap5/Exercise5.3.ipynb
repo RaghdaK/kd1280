{
 "cells": [
  {
   "cell_type": "markdown",
   "metadata": {},
   "source": [
    "## Övning 5.3"
   ]
  },
  {
   "cell_type": "markdown",
   "metadata": {},
   "source": [
    "Uppgiften lyder\n",
    "<img src=\"img/exe5.3.png\">"
   ]
  },
  {
   "cell_type": "code",
   "execution_count": 1,
   "metadata": {
    "collapsed": false
   },
   "outputs": [
    {
     "data": {
      "text/html": [
       "<div>\n",
       "<table border=\"1\" class=\"dataframe\">\n",
       "  <thead>\n",
       "    <tr style=\"text-align: right;\">\n",
       "      <th></th>\n",
       "      <th>Silver</th>\n",
       "      <th>Absorbance</th>\n",
       "    </tr>\n",
       "  </thead>\n",
       "  <tbody>\n",
       "    <tr>\n",
       "      <th>0</th>\n",
       "      <td>0.0</td>\n",
       "      <td>0.003</td>\n",
       "    </tr>\n",
       "    <tr>\n",
       "      <th>1</th>\n",
       "      <td>5.0</td>\n",
       "      <td>0.127</td>\n",
       "    </tr>\n",
       "    <tr>\n",
       "      <th>2</th>\n",
       "      <td>10.0</td>\n",
       "      <td>0.251</td>\n",
       "    </tr>\n",
       "    <tr>\n",
       "      <th>3</th>\n",
       "      <td>15.0</td>\n",
       "      <td>0.390</td>\n",
       "    </tr>\n",
       "    <tr>\n",
       "      <th>4</th>\n",
       "      <td>20.0</td>\n",
       "      <td>0.498</td>\n",
       "    </tr>\n",
       "    <tr>\n",
       "      <th>5</th>\n",
       "      <td>25.0</td>\n",
       "      <td>0.625</td>\n",
       "    </tr>\n",
       "    <tr>\n",
       "      <th>6</th>\n",
       "      <td>30.0</td>\n",
       "      <td>0.763</td>\n",
       "    </tr>\n",
       "  </tbody>\n",
       "</table>\n",
       "</div>"
      ],
      "text/plain": [
       "   Silver  Absorbance\n",
       "0     0.0       0.003\n",
       "1     5.0       0.127\n",
       "2    10.0       0.251\n",
       "3    15.0       0.390\n",
       "4    20.0       0.498\n",
       "5    25.0       0.625\n",
       "6    30.0       0.763"
      ]
     },
     "execution_count": 1,
     "metadata": {},
     "output_type": "execute_result"
    }
   ],
   "source": [
    "import pandas as pd\n",
    "import numpy as np\n",
    "\n",
    "stickprov = [[0,5,10,15,20,25,30],[0.003,0.127,0.251,0.390,0.498,0.625,0.763]]\n",
    "data = pd.DataFrame(np.transpose(stickprov),columns=[\"Silver\",\"Absorbance\"])\n",
    "data"
   ]
  },
  {
   "cell_type": "code",
   "execution_count": 2,
   "metadata": {
    "collapsed": false,
    "scrolled": false
   },
   "outputs": [
    {
     "data": {
      "image/png": "[encoded data removed]",
      "text/plain": [
       "<matplotlib.figure.Figure at 0x7fec72b740d0>"
      ]
     },
     "metadata": {},
     "output_type": "display_data"
    }
   ],
   "source": [
    "%matplotlib inline\n",
    "import matplotlib.pyplot as plt\n",
    "import seaborn as sns\n",
    "\n",
    "sns.set()\n",
    "g = sns.lmplot(data=data,x=\"Silver\",y=\"Absorbance\",fit_reg=False)\n"
   ]
  },
  {
   "cell_type": "markdown",
   "metadata": {},
   "source": [
    "Vi gör elementvis summering, för att bestämma regressions koefficienter enl ekvation 5.4.1 och 5.4.2."
   ]
  },
  {
   "cell_type": "code",
   "execution_count": 22,
   "metadata": {
    "collapsed": false
   },
   "outputs": [
    {
     "name": "stdout",
     "output_type": "stream",
     "text": [
      "Regressions linje given av y= 0.025 * x + 0.002\n"
     ]
    }
   ],
   "source": [
    "antal, sum_x, sum_y = 0,.0,.0\n",
    "for row in data.itertuples():\n",
    "    sum_x += row[1]\n",
    "    sum_y += row[2]\n",
    "    antal += 1\n",
    "mean_x,mean_y = sum_x/antal, sum_y/antal\n",
    "sum_xy, sum_xx = .0,.0\n",
    "for row in data.itertuples():\n",
    "    sum_xy += (row[1]-mean_x)*(row[2]-mean_y)\n",
    "    sum_xx += (row[1]-mean_x)**2\n",
    "\n",
    "b = sum_xy/sum_xx\n",
    "a = mean_y-b*mean_x\n",
    "\n",
    "print \"Regressions linje given av y= %.3f * x + %.3f\" % (b,a)\n"
   ]
  },
  {
   "cell_type": "markdown",
   "metadata": {},
   "source": [
    "Vi använder sedan ekvation 5.5.1, 5.5.2 och 5.5.3 för att räkna ut standardfel och 95% konfidens intevall för regressions koefficienterna "
   ]
  },
  {
   "cell_type": "code",
   "execution_count": 23,
   "metadata": {
    "collapsed": false
   },
   "outputs": [
    {
     "name": "stdout",
     "output_type": "stream",
     "text": [
      "a = 0.0021+-0.0123, b = 0.0252+-0.0007\n"
     ]
    }
   ],
   "source": [
    "sum_yyhat,sum_xx_bare = 0.,0.\n",
    "for row in data.itertuples():\n",
    "    sum_yyhat += (row[2]-(row[1]*b+a))**2\n",
    "    sum_xx_bare += (row[1])**2\n",
    "\n",
    "s_yx = np.sqrt(sum_yyhat/(antal-2))\n",
    "sb = s_yx/np.sqrt(sum_xx)\n",
    "sa = s_yx*np.sqrt(sum_xx_bare/(antal*sum_xx))\n",
    "\n",
    "from scipy.stats import t\n",
    "t_kritisk = t.ppf(1-0.05/2,antal-2)\n",
    "\n",
    "print \"a = %.4f+-%.4f, b = %.4f+-%.4f\" % (a,sa*t_kritisk,b,sb*t_kritisk)"
   ]
  },
  {
   "cell_type": "code",
   "execution_count": null,
   "metadata": {
    "collapsed": true
   },
   "outputs": [],
   "source": []
  }
 ],
 "metadata": {
  "kernelspec": {
   "display_name": "Python 2",
   "language": "python",
   "name": "python2"
  },
  "language_info": {
   "codemirror_mode": {
    "name": "ipython",
    "version": 2
   },
   "file_extension": ".py",
   "mimetype": "text/x-python",
   "name": "python",
   "nbconvert_exporter": "python",
   "pygments_lexer": "ipython2",
   "version": "2.7.12+"
  }
 },
 "nbformat": 4,
 "nbformat_minor": 2
}
